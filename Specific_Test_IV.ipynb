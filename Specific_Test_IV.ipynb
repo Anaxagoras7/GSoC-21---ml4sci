{
 "cells": [
  {
   "cell_type": "markdown",
   "metadata": {},
   "source": [
    "## Specific Test IV. Exploring Equivariant Neural Networks"
   ]
  },
  {
   "cell_type": "markdown",
   "metadata": {},
   "source": [
    "My thoughts on using CNN\n",
    "- The number of parameters in a neural network increases rapidly in relation to the number of layers and hence make the model computationally heavy considering the fact that we are using pixel heavy images. Tuning so many of parameters can be time consuming. This is the main reason why I have used CNN for this task.\n",
    "- The lensing images have high dimensionality (each pixel considered as a feature) which suits the above described abilities of CNNs. They are trained to identify the edges of objects in any image.\n",
    "- The pre-processing required in a CNN is much lower as compared to other classification algorithms. While in primitive methods filters are hand-engineered, with enough training, CNNs have the ability to learn these filters/characteristics.\n",
    "- This is my first time using CNN with pytorch as I commonly use tensorflow for CNNs so I was unable to plot the ROC curve as I ran out of time."
   ]
  },
  {
   "cell_type": "code",
   "execution_count": 10,
   "metadata": {},
   "outputs": [
    {
     "name": "stdout",
     "output_type": "stream",
     "text": [
      "lenses/sub\n"
     ]
    },
    {
     "name": "stderr",
     "output_type": "stream",
     "text": [
      "100%|██████████| 5000/5000 [00:15<00:00, 322.35it/s]\n",
      "  0%|          | 16/5000 [00:00<00:31, 159.10it/s]"
     ]
    },
    {
     "name": "stdout",
     "output_type": "stream",
     "text": [
      "lenses/no_sub\n"
     ]
    },
    {
     "name": "stderr",
     "output_type": "stream",
     "text": [
      "100%|██████████| 5000/5000 [00:22<00:00, 221.43it/s]\n"
     ]
    },
    {
     "name": "stdout",
     "output_type": "stream",
     "text": [
      "sub: 0\n",
      "no sub: 0\n",
      "10000\n"
     ]
    }
   ],
   "source": [
    "import torch\n",
    "import torch.nn as nn\n",
    "import torch.nn.functional as F\n",
    "import torch.optim as optim\n",
    "import os\n",
    "import cv2\n",
    "import numpy as np\n",
    "from tqdm import tqdm\n",
    "\n",
    "\n",
    "REBUILD_DATA = True \n",
    "\n",
    "class DM_Classifier():\n",
    "    IMG_SIZE = 50\n",
    "    sub = \"lenses/sub\"\n",
    "    no_sub = \"lenses/no_sub\"\n",
    "    \n",
    "    LABELS = {sub: 0, no_sub: 1}\n",
    "    training_data = []\n",
    "\n",
    "    subcount = 0\n",
    "    nosubcount = 0\n",
    "\n",
    "    def make_training_data(self):\n",
    "        for label in self.LABELS:\n",
    "            print(label)\n",
    "            for f in tqdm(os.listdir(label)):\n",
    "                if \"jpg\" in f:\n",
    "                    try:\n",
    "                        path = os.path.join(label, f)\n",
    "                        img = cv2.imread(path, cv2.IMREAD_GRAYSCALE)\n",
    "                        img = cv2.resize(img, (self.IMG_SIZE, self.IMG_SIZE))\n",
    "                        self.training_data.append([np.array(img), np.eye(2)[self.LABELS[label]]])   \n",
    "                        \n",
    "\n",
    "                        if label == self.HEELS:\n",
    "                            self.subcount += 1\n",
    "                        elif label == self.no_sub:\n",
    "                            self.nosubcount += 1\n",
    "\n",
    "                    except Exception as e:\n",
    "                        pass\n",
    "                        \n",
    "\n",
    "        np.random.shuffle(self.training_data)\n",
    "        np.save(\"training_data.npy\", self.training_data)\n",
    "        print('sub:',dmclassifier.subcount)\n",
    "        print('no sub:',dmclassifier.nosubcount)\n",
    "\n",
    "if REBUILD_DATA:\n",
    "    dmclassifier = DM_Classifier()\n",
    "    dmclassifier.make_training_data()\n",
    "            \n",
    "\n",
    "training_data = np.load(\"training_data.npy\", allow_pickle=True)\n",
    "print(len(training_data))\n",
    "        "
   ]
  },
  {
   "cell_type": "code",
   "execution_count": 11,
   "metadata": {},
   "outputs": [],
   "source": [
    "class Net(nn.Module):\n",
    "    def __init__(self):\n",
    "        super().__init__() \n",
    "        self.conv1 = nn.Conv2d(1, 32, 5) # input is an image with 32 output channels and 5x5 kernel\n",
    "        self.conv2 = nn.Conv2d(32, 64, 5) # input is 32, bc the first layer output 32, then later to 64 channels, 5x5 kernel / window\n",
    "        self.conv3 = nn.Conv2d(64, 128, 5)\n",
    "\n",
    "        x = torch.randn(50,50).view(-1,1,50,50)\n",
    "        self._to_linear = None\n",
    "        self.convs(x)\n",
    "\n",
    "        self.fc1 = nn.Linear(self._to_linear, 512) #Flattening.\n",
    "        self.fc2 = nn.Linear(512, 2) \n",
    "\n",
    "    def convs(self, x):\n",
    "        \n",
    "        x = F.max_pool2d(F.relu(self.conv1(x)), (2, 2))\n",
    "        x = F.max_pool2d(F.relu(self.conv2(x)), (2, 2))\n",
    "        x = F.max_pool2d(F.relu(self.conv3(x)), (2, 2))\n",
    "\n",
    "        if self._to_linear is None:\n",
    "            self._to_linear = x[0].shape[0]*x[0].shape[1]*x[0].shape[2]\n",
    "        return x\n",
    "\n",
    "    def forward(self, x):\n",
    "        x = self.convs(x)\n",
    "        x = x.view(-1, self._to_linear)  #reshape\n",
    "        x = F.relu(self.fc1(x))\n",
    "        x = self.fc2(x)     #Output layer\n",
    "        return F.softmax(x, dim=1)"
   ]
  },
  {
   "cell_type": "code",
   "execution_count": 12,
   "metadata": {},
   "outputs": [
    {
     "name": "stderr",
     "output_type": "stream",
     "text": [
      "\r",
      "  0%|          | 0/90 [00:00<?, ?it/s]"
     ]
    },
    {
     "name": "stdout",
     "output_type": "stream",
     "text": [
      "9000 1000\n"
     ]
    },
    {
     "name": "stderr",
     "output_type": "stream",
     "text": [
      "100%|██████████| 90/90 [00:39<00:00,  2.27it/s]\n",
      "  0%|          | 0/90 [00:00<?, ?it/s]"
     ]
    },
    {
     "name": "stdout",
     "output_type": "stream",
     "text": [
      "Epoch: 0. Loss: 0.24959498643875122\n"
     ]
    },
    {
     "name": "stderr",
     "output_type": "stream",
     "text": [
      "100%|██████████| 90/90 [00:35<00:00,  2.52it/s]\n",
      "  0%|          | 0/90 [00:00<?, ?it/s]"
     ]
    },
    {
     "name": "stdout",
     "output_type": "stream",
     "text": [
      "Epoch: 1. Loss: 0.18039661645889282\n"
     ]
    },
    {
     "name": "stderr",
     "output_type": "stream",
     "text": [
      "100%|██████████| 90/90 [00:33<00:00,  2.67it/s]\n",
      "  0%|          | 0/90 [00:00<?, ?it/s]"
     ]
    },
    {
     "name": "stdout",
     "output_type": "stream",
     "text": [
      "Epoch: 2. Loss: 0.12563523650169373\n"
     ]
    },
    {
     "name": "stderr",
     "output_type": "stream",
     "text": [
      "100%|██████████| 90/90 [00:32<00:00,  2.77it/s]\n",
      "  0%|          | 0/90 [00:00<?, ?it/s]"
     ]
    },
    {
     "name": "stdout",
     "output_type": "stream",
     "text": [
      "Epoch: 3. Loss: 0.09521129727363586\n"
     ]
    },
    {
     "name": "stderr",
     "output_type": "stream",
     "text": [
      "100%|██████████| 90/90 [00:34<00:00,  2.64it/s]\n",
      "  0%|          | 0/90 [00:00<?, ?it/s]"
     ]
    },
    {
     "name": "stdout",
     "output_type": "stream",
     "text": [
      "Epoch: 4. Loss: 0.0931924358010292\n"
     ]
    },
    {
     "name": "stderr",
     "output_type": "stream",
     "text": [
      "100%|██████████| 90/90 [00:34<00:00,  2.63it/s]\n",
      "  0%|          | 0/90 [00:00<?, ?it/s]"
     ]
    },
    {
     "name": "stdout",
     "output_type": "stream",
     "text": [
      "Epoch: 5. Loss: 0.07830823212862015\n"
     ]
    },
    {
     "name": "stderr",
     "output_type": "stream",
     "text": [
      "100%|██████████| 90/90 [00:34<00:00,  2.60it/s]\n",
      "  0%|          | 0/90 [00:00<?, ?it/s]"
     ]
    },
    {
     "name": "stdout",
     "output_type": "stream",
     "text": [
      "Epoch: 6. Loss: 0.045150455087423325\n"
     ]
    },
    {
     "name": "stderr",
     "output_type": "stream",
     "text": [
      "100%|██████████| 90/90 [00:37<00:00,  2.40it/s]\n",
      "  0%|          | 0/90 [00:00<?, ?it/s]"
     ]
    },
    {
     "name": "stdout",
     "output_type": "stream",
     "text": [
      "Epoch: 7. Loss: 0.028617482632398605\n"
     ]
    },
    {
     "name": "stderr",
     "output_type": "stream",
     "text": [
      "100%|██████████| 90/90 [00:33<00:00,  2.69it/s]\n",
      "  0%|          | 0/90 [00:00<?, ?it/s]"
     ]
    },
    {
     "name": "stdout",
     "output_type": "stream",
     "text": [
      "Epoch: 8. Loss: 0.022373860701918602\n"
     ]
    },
    {
     "name": "stderr",
     "output_type": "stream",
     "text": [
      "100%|██████████| 90/90 [00:33<00:00,  2.68it/s]\n",
      "  0%|          | 4/1000 [00:00<00:25, 39.69it/s]"
     ]
    },
    {
     "name": "stdout",
     "output_type": "stream",
     "text": [
      "Epoch: 9. Loss: 0.018530042842030525\n"
     ]
    },
    {
     "name": "stderr",
     "output_type": "stream",
     "text": [
      "100%|██████████| 1000/1000 [00:02<00:00, 347.23it/s]"
     ]
    },
    {
     "name": "stdout",
     "output_type": "stream",
     "text": [
      "Accuracy:  0.972\n"
     ]
    },
    {
     "name": "stderr",
     "output_type": "stream",
     "text": [
      "\n"
     ]
    }
   ],
   "source": [
    "net = Net()\n",
    "\n",
    "optimizer = optim.Adam(net.parameters(), lr=0.001)\n",
    "loss_function = nn.MSELoss()\n",
    "\n",
    "X = torch.Tensor([i[0] for i in training_data])\n",
    "X = X/225.0\n",
    "y = torch.Tensor([i[1] for i in training_data])\n",
    "\n",
    "VAL_PCT = 0.1  # validation\n",
    "val_size = int(len(X)*VAL_PCT)\n",
    "\n",
    "\n",
    "X_train = X[:-val_size]\n",
    "y_train = y[:-val_size]\n",
    "\n",
    "X_test = X[-val_size:]\n",
    "y_test = y[-val_size:]\n",
    "print(len(X_train), len(X_test))\n",
    "\n",
    "BATCH_SIZE = 100\n",
    "EPOCHS = 10\n",
    "\n",
    "for epoch in range(EPOCHS):\n",
    "    for i in tqdm(range(0, len(X_train), BATCH_SIZE)): \n",
    "    \n",
    "        batch_X = X_train[i:i+BATCH_SIZE].view(-1, 1, 50, 50)\n",
    "        batch_y = y_train[i:i+BATCH_SIZE]\n",
    "\n",
    "        net.zero_grad()\n",
    "\n",
    "        outputs = net(batch_X)\n",
    "        loss = loss_function(outputs, batch_y)\n",
    "        loss.backward()\n",
    "        optimizer.step()   \n",
    "\n",
    "    print(f\"Epoch: {epoch}. Loss: {loss}\")\n",
    "\n",
    "    \n",
    "correct = 0\n",
    "total = 0\n",
    "with torch.no_grad():\n",
    "    for i in tqdm(range(len(X_test))):\n",
    "        real_class = torch.argmax(y_test[i])\n",
    "        net_out = net(X_test[i].view(-1, 1, 50, 50))[0]  #Returns List \n",
    "        predicted_class = torch.argmax(net_out)\n",
    "\n",
    "        if predicted_class == real_class:\n",
    "            correct += 1\n",
    "        total += 1\n",
    "print(\"Accuracy: \", round(correct/total, 3))"
   ]
  },
  {
   "cell_type": "code",
   "execution_count": 13,
   "metadata": {},
   "outputs": [
    {
     "data": {
      "text/plain": [
       "tensor([[[0.0000, 0.0000, 0.0000,  ..., 0.0044, 0.0044, 0.0044],\n",
       "         [0.0000, 0.0000, 0.0000,  ..., 0.0044, 0.0044, 0.0044],\n",
       "         [0.0000, 0.0000, 0.0000,  ..., 0.0044, 0.0044, 0.0044],\n",
       "         ...,\n",
       "         [0.0044, 0.0044, 0.0044,  ..., 0.0000, 0.0044, 0.0044],\n",
       "         [0.0044, 0.0044, 0.0044,  ..., 0.0044, 0.0044, 0.0044],\n",
       "         [0.0044, 0.0044, 0.0044,  ..., 0.0044, 0.0044, 0.0044]],\n",
       "\n",
       "        [[0.0089, 0.0089, 0.0089,  ..., 0.0089, 0.0044, 0.0089],\n",
       "         [0.0089, 0.0089, 0.0089,  ..., 0.0089, 0.0044, 0.0089],\n",
       "         [0.0089, 0.0089, 0.0089,  ..., 0.0089, 0.0222, 0.0044],\n",
       "         ...,\n",
       "         [0.0089, 0.0089, 0.0089,  ..., 0.0044, 0.0000, 0.0044],\n",
       "         [0.0089, 0.0089, 0.0089,  ..., 0.0089, 0.0044, 0.0044],\n",
       "         [0.0089, 0.0089, 0.0089,  ..., 0.0089, 0.0044, 0.0044]],\n",
       "\n",
       "        [[0.0044, 0.0044, 0.0044,  ..., 0.0044, 0.0044, 0.0044],\n",
       "         [0.0044, 0.0044, 0.0044,  ..., 0.0044, 0.0044, 0.0044],\n",
       "         [0.0044, 0.0044, 0.0044,  ..., 0.0044, 0.0044, 0.0044],\n",
       "         ...,\n",
       "         [0.0044, 0.0044, 0.0044,  ..., 0.0044, 0.0044, 0.0044],\n",
       "         [0.0044, 0.0044, 0.0044,  ..., 0.0044, 0.0044, 0.0044],\n",
       "         [0.0044, 0.0044, 0.0044,  ..., 0.0044, 0.0044, 0.0044]],\n",
       "\n",
       "        ...,\n",
       "\n",
       "        [[0.0089, 0.0044, 0.0133,  ..., 0.0089, 0.0133, 0.0089],\n",
       "         [0.0089, 0.0044, 0.0133,  ..., 0.0089, 0.0044, 0.0089],\n",
       "         [0.0089, 0.0044, 0.0133,  ..., 0.0089, 0.0133, 0.0089],\n",
       "         ...,\n",
       "         [0.0133, 0.0044, 0.0133,  ..., 0.0089, 0.0089, 0.0089],\n",
       "         [0.0089, 0.0089, 0.0089,  ..., 0.0089, 0.0089, 0.0089],\n",
       "         [0.0089, 0.0089, 0.0089,  ..., 0.0089, 0.0089, 0.0089]],\n",
       "\n",
       "        [[0.0044, 0.0044, 0.0044,  ..., 0.0044, 0.0044, 0.0044],\n",
       "         [0.0044, 0.0044, 0.0044,  ..., 0.0044, 0.0044, 0.0044],\n",
       "         [0.0044, 0.0044, 0.0044,  ..., 0.0044, 0.0044, 0.0044],\n",
       "         ...,\n",
       "         [0.0044, 0.0044, 0.0044,  ..., 0.0044, 0.0044, 0.0044],\n",
       "         [0.0044, 0.0044, 0.0044,  ..., 0.0044, 0.0044, 0.0044],\n",
       "         [0.0044, 0.0044, 0.0044,  ..., 0.0044, 0.0044, 0.0044]],\n",
       "\n",
       "        [[0.0044, 0.0044, 0.0044,  ..., 0.0044, 0.0044, 0.0044],\n",
       "         [0.0044, 0.0044, 0.0044,  ..., 0.0044, 0.0044, 0.0044],\n",
       "         [0.0044, 0.0044, 0.0044,  ..., 0.0044, 0.0044, 0.0044],\n",
       "         ...,\n",
       "         [0.0044, 0.0044, 0.0044,  ..., 0.0044, 0.0000, 0.0044],\n",
       "         [0.0044, 0.0044, 0.0044,  ..., 0.0044, 0.0044, 0.0044],\n",
       "         [0.0044, 0.0044, 0.0044,  ..., 0.0044, 0.0044, 0.0044]]])"
      ]
     },
     "execution_count": 13,
     "metadata": {},
     "output_type": "execute_result"
    }
   ],
   "source": [
    "X_test"
   ]
  },
  {
   "cell_type": "code",
   "execution_count": null,
   "metadata": {},
   "outputs": [],
   "source": [
    "predict_out = net(X_test)\n",
    "predict_y = torch.max(predict_out, 1)\n",
    "y_score= net(torch.Tensor(X_test))\n",
    "\n",
    "fpr, tpr, thresholds = metrics.roc_curve(y_test, y_score, pos_label=2)\n",
    "roc_auc = auc(fpr, tpr)\n",
    "\n",
    "plt.figure()\n",
    "lw = 2\n",
    "plt.plot(fpr, tpr, color='darkorange',\n",
    "         lw=lw, label='ROC curve (area = %0.2f)' % roc_auc)\n",
    "plt.plot([0, 1], [0, 1], color='navy', lw=lw, linestyle='--')\n",
    "plt.xlim([0.0, 1.0])\n",
    "plt.ylim([0.0, 1.05])\n",
    "plt.xlabel('False Positive Rate')\n",
    "plt.ylabel('True Positive Rate')\n",
    "plt.title('Receiver operating characteristic example')\n",
    "plt.legend(loc=\"lower right\")\n",
    "plt.show()\n"
   ]
  },
  {
   "cell_type": "markdown",
   "metadata": {},
   "source": [
    "For more info about me, please visit my LinkedIn profile at https://www.linkedin.com/in/gaurav-g-s-9a7495180/ or feel free to drop a mail at ngs.gaurav.anaxagoras7@gmail.com"
   ]
  }
 ],
 "metadata": {
  "kernelspec": {
   "display_name": "Python 3",
   "language": "python",
   "name": "python3"
  },
  "language_info": {
   "codemirror_mode": {
    "name": "ipython",
    "version": 3
   },
   "file_extension": ".py",
   "mimetype": "text/x-python",
   "name": "python",
   "nbconvert_exporter": "python",
   "pygments_lexer": "ipython3",
   "version": "3.8.5"
  }
 },
 "nbformat": 4,
 "nbformat_minor": 4
}
